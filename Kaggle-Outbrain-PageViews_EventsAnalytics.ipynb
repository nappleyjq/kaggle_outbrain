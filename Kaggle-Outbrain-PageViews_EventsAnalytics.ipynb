{
 "cells": [
  {
   "cell_type": "markdown",
   "metadata": {},
   "source": [
    "# Kaggle - Outbrain Click Prediction\n",
    "## Unveiling the secrets of page_views.csv and its relationship with events.csv"
   ]
  },
  {
   "cell_type": "markdown",
   "metadata": {},
   "source": [
    "By [Gabriel S. P. Moreira](https://about.me/gspmoreira)"
   ]
  },
  {
   "cell_type": "markdown",
   "metadata": {},
   "source": [
    "In this notebook, I leverage the power of a **Spark cluster** to explore the large (~88GB) page_views.csv dataset and analyze its relationshiop with events.csv in the [Kaggle - Outbrain Click Prediction challenge](https://www.kaggle.com/c/outbrain-click-prediction/) .  \n",
    "We answer questions like: \n",
    "\n",
    "* **How to join page_views.csv and events.csv?**\n",
    "* **Is events.csv a subset of page_views.csv?**\n",
    "* **Are there additional page views for users in events.csv?**  \n",
    "\n",
    "\n",
    "*If this Kaggle kernel helps you, don't forget to thumbs it up! ;)*"
   ]
  },
  {
   "cell_type": "markdown",
   "metadata": {},
   "source": [
    "## Dependencies"
   ]
  },
  {
   "cell_type": "markdown",
   "metadata": {},
   "source": [
    "* PySpark 2.0\n",
    "* Pandas and Matplotlib - Only on master node\n",
    "\n",
    "Just for reference, I am running this notebook on a Spark cluster with 1 master and 4 worker nodes (deployed on [Google Dataproc](http://cloud.google.com/dataproc/) ), each server with 4 CPUs and 16GB RAM.  \n",
    "For some slower Spark transformations and actions, I've used the %time Jupyter magic command to log elapsed processing time."
   ]
  },
  {
   "cell_type": "markdown",
   "metadata": {},
   "source": [
    "# Analyzing page views"
   ]
  },
  {
   "cell_type": "markdown",
   "metadata": {},
   "source": [
    "## Loading page_views.csv"
   ]
  },
  {
   "cell_type": "code",
   "execution_count": 102,
   "metadata": {
    "collapsed": true
   },
   "outputs": [],
   "source": [
    "from pyspark.sql.types import *\n",
    "import pyspark.sql.functions as F"
   ]
  },
  {
   "cell_type": "code",
   "execution_count": 4,
   "metadata": {
    "collapsed": true
   },
   "outputs": [],
   "source": [
    "page_views_schema = StructType(\n",
    "                    [StructField(\"uuid\", StringType(), True),\n",
    "                    StructField(\"document_id\", IntegerType(), True),\n",
    "                    StructField(\"timestamp\", IntegerType(), True),\n",
    "                    StructField(\"platform\", IntegerType(), True),\n",
    "                    StructField(\"geo_location\", StringType(), True),\n",
    "                    StructField(\"traffic_source\", IntegerType(), True)]\n",
    ")\n",
    "#Data is read from Google Cloud Storage, a distributed filesystem like HDFS stored externally to the cluster\n",
    "#If you wanna use your own HDFS, just prefix the file path with the absolute path 'hdfs:' or \n",
    "#with the relative path if HDFS is your cluster default filesystem\n",
    "page_views_df = spark.read.schema(page_views_schema).options(header='true', inferschema='false', nullValue='\\\\N') \\\n",
    "                .csv(\"gs://sc-ml-hdfs-prd/tmp/outbrain/page_views.csv\")"
   ]
  },
  {
   "cell_type": "markdown",
   "metadata": {},
   "source": [
    "Spark sets the number of partitions based on file size, in this case, 708 partitions, each with about ~125MB. During job processing each partition becomes a task, which are processed in parallel by the available executors on Spark worker nodes."
   ]
  },
  {
   "cell_type": "code",
   "execution_count": 6,
   "metadata": {},
   "outputs": [
    {
     "data": {
      "text/plain": [
       "708"
      ]
     },
     "execution_count": 6,
     "metadata": {},
     "output_type": "execute_result"
    }
   ],
   "source": [
    "page_views_df.rdd.getNumPartitions()"
   ]
  },
  {
   "cell_type": "code",
   "execution_count": 62,
   "metadata": {},
   "outputs": [
    {
     "name": "stdout",
     "output_type": "stream",
     "text": [
      "+--------------+-----------+---------+--------+------------+--------------+\n",
      "|          uuid|document_id|timestamp|platform|geo_location|traffic_source|\n",
      "+--------------+-----------+---------+--------+------------+--------------+\n",
      "|1fd5f051fba643|        120| 31905835|       1|          RS|             2|\n",
      "|8557aa9004be3b|        120| 32053104|       1|       VN>44|             2|\n",
      "|c351b277a358f0|        120| 54013023|       1|       KR>12|             1|\n",
      "|8205775c5387f9|        120| 44196592|       1|       IN>16|             2|\n",
      "|9cb0ccd8458371|        120| 65817371|       1|   US>CA>807|             2|\n",
      "|2aa611f32875c7|        120| 71495491|       1|       CA>ON|             2|\n",
      "|f55a6eaf2b34ab|        120| 73309199|       1|       BR>27|             2|\n",
      "|cc01b582c8cbff|        120| 50033577|       1|       CA>BC|             2|\n",
      "|6c802978b8dd4d|        120| 66590306|       1|       CA>ON|             2|\n",
      "|f4e423314303ff|        120| 48314254|       1|   US>LA>622|             1|\n",
      "|3937372ca2709b|        120| 24360074|       1|          NO|             2|\n",
      "|31f8d101c6a851|        120| 13847456|       1|       PH>D9|             2|\n",
      "|67606983fe1acf|        984| 82129416|       2|   US>OK>671|             2|\n",
      "|3f9d5b09ac4a0a|        984| 82583638|       2|          US|             2|\n",
      "|3dd8a359aa8699|        984| 59439284|       2|   US>MD>511|             2|\n",
      "|95e966c81b9316|        984|   983791|       3|   US>AL>698|             2|\n",
      "|483cf1feb3e47c|        984| 17944009|       2|   US>MI>505|             1|\n",
      "|f7baf0caf201ca|        984| 37096677|       2|       CA>AB|             2|\n",
      "|7a408fe90c02b3|        984| 30457643|       1|          PH|             1|\n",
      "|9ee2877617838a|        984| 86093121|       3|   US>MN>613|             2|\n",
      "+--------------+-----------+---------+--------+------------+--------------+\n",
      "only showing top 20 rows\n",
      "\n",
      "CPU times: user 0 ns, sys: 0 ns, total: 0 ns\n",
      "Wall time: 516 ms\n"
     ]
    }
   ],
   "source": [
    "%time page_views_df.show()"
   ]
  },
  {
   "cell_type": "markdown",
   "metadata": {},
   "source": [
    "## Page views timestamp stats"
   ]
  },
  {
   "cell_type": "code",
   "execution_count": 9,
   "metadata": {},
   "outputs": [
    {
     "name": "stdout",
     "output_type": "stream",
     "text": [
      "CPU times: user 60 ms, sys: 20 ms, total: 80 ms\n",
      "Wall time: 5min 24s\n"
     ]
    }
   ],
   "source": [
    "%time page_views_timestamp_stats_df = page_views_df.describe('timestamp')"
   ]
  },
  {
   "cell_type": "code",
   "execution_count": 10,
   "metadata": {},
   "outputs": [
    {
     "data": {
      "text/plain": [
       "{'count': '2034275448',\n",
       " 'max': '1296000000',\n",
       " 'mean': '6.51464604736012E8',\n",
       " 'min': '0',\n",
       " 'stddev': '3.809745454636914E8'}"
      ]
     },
     "execution_count": 10,
     "metadata": {},
     "output_type": "execute_result"
    }
   ],
   "source": [
    "page_views_timestamp_stats = page_views_timestamp_stats_df.rdd.collectAsMap()\n",
    "page_views_timestamp_stats"
   ]
  },
  {
   "cell_type": "markdown",
   "metadata": {},
   "source": [
    "**Total of page views available in this dataset**"
   ]
  },
  {
   "cell_type": "code",
   "execution_count": 170,
   "metadata": {},
   "outputs": [
    {
     "name": "stdout",
     "output_type": "stream",
     "text": [
      "# Page Views: 2034275448\n"
     ]
    }
   ],
   "source": [
    "page_views_count = int(page_views_timestamp_stats['count'])\n",
    "print('# Page Views:',page_views_count)"
   ]
  },
  {
   "cell_type": "markdown",
   "metadata": {},
   "source": [
    "** Page Views time range **"
   ]
  },
  {
   "cell_type": "markdown",
   "metadata": {},
   "source": [
    "We can see below that dataset contains only page views between 2016-06-14 and 2016-06-28. As min and max timestamp in dataset are at about 4am, it suggests that dates are in UTC and the dataset days were filtered according to UTC-4 (Eastern Time - EST).   \n",
    "To further model users preferences, it would be nice if we had in this dataset the full log of previous users pages visits, who had at least an event between that period (2016-06-14 and 2016-06-28)."
   ]
  },
  {
   "cell_type": "code",
   "execution_count": 12,
   "metadata": {
    "collapsed": true
   },
   "outputs": [],
   "source": [
    "from datetime import datetime\n",
    "def convert_odd_timestamp(timestamp_ms_relative):\n",
    "    TIMESTAMP_DELTA=1465876799998\n",
    "    return datetime.fromtimestamp((int(timestamp_ms_relative)+TIMESTAMP_DELTA)//1000)"
   ]
  },
  {
   "cell_type": "code",
   "execution_count": 218,
   "metadata": {},
   "outputs": [
    {
     "name": "stdout",
     "output_type": "stream",
     "text": [
      "2016-06-14 03:59:59\n"
     ]
    }
   ],
   "source": [
    "print(convert_odd_timestamp(page_views_timestamp_stats['min']))"
   ]
  },
  {
   "cell_type": "code",
   "execution_count": 219,
   "metadata": {},
   "outputs": [
    {
     "name": "stdout",
     "output_type": "stream",
     "text": [
      "2016-06-29 03:59:59\n"
     ]
    }
   ],
   "source": [
    "print(convert_odd_timestamp(page_views_timestamp_stats['max']))"
   ]
  },
  {
   "cell_type": "markdown",
   "metadata": {},
   "source": [
    "## Page views by user"
   ]
  },
  {
   "cell_type": "code",
   "execution_count": 77,
   "metadata": {
    "collapsed": true
   },
   "outputs": [],
   "source": [
    "import pandas as pd"
   ]
  },
  {
   "cell_type": "code",
   "execution_count": 15,
   "metadata": {
    "collapsed": true
   },
   "outputs": [],
   "source": [
    "#Grouping page views by user id and aggregating the count by user\n",
    "page_views_by_user_df = page_views_df.groupBy('uuid').count()"
   ]
  },
  {
   "cell_type": "code",
   "execution_count": 16,
   "metadata": {
    "collapsed": true
   },
   "outputs": [],
   "source": [
    "#Grouping page views user counts by counts (to build a histogram)\n",
    "page_views_user_distribution_df = page_views_by_user_df.select('count').groupby('count').count()"
   ]
  },
  {
   "cell_type": "code",
   "execution_count": 17,
   "metadata": {},
   "outputs": [
    {
     "name": "stdout",
     "output_type": "stream",
     "text": [
      "CPU times: user 412 ms, sys: 88 ms, total: 500 ms\n",
      "Wall time: 16min 4s\n"
     ]
    }
   ],
   "source": [
    "#Converting the PySpark Dataframe to a Pandas Dataframe (for plotting)\n",
    "%time page_views_by_user_pandas = page_views_user_distribution_df.toPandas()"
   ]
  },
  {
   "cell_type": "code",
   "execution_count": 32,
   "metadata": {},
   "outputs": [
    {
     "data": {
      "text/plain": [
       "563"
      ]
     },
     "execution_count": 32,
     "metadata": {},
     "output_type": "execute_result"
    }
   ],
   "source": [
    "len(page_views_by_user_pandas)"
   ]
  },
  {
   "cell_type": "markdown",
   "metadata": {},
   "source": [
    "This table shows that 458234809 users have only 1 page view in the dataset, 94245789 have exactly 2 page views (94245789), etc."
   ]
  },
  {
   "cell_type": "code",
   "execution_count": 47,
   "metadata": {},
   "outputs": [
    {
     "data": {
      "text/html": [
       "<div>\n",
       "<table border=\"1\" class=\"dataframe\">\n",
       "  <thead>\n",
       "    <tr style=\"text-align: right;\">\n",
       "      <th></th>\n",
       "      <th>usersCount</th>\n",
       "    </tr>\n",
       "    <tr>\n",
       "      <th>pageViewsByUser</th>\n",
       "      <th></th>\n",
       "    </tr>\n",
       "  </thead>\n",
       "  <tbody>\n",
       "    <tr>\n",
       "      <th>1</th>\n",
       "      <td>458234809</td>\n",
       "    </tr>\n",
       "    <tr>\n",
       "      <th>2</th>\n",
       "      <td>94245789</td>\n",
       "    </tr>\n",
       "    <tr>\n",
       "      <th>3</th>\n",
       "      <td>44977389</td>\n",
       "    </tr>\n",
       "    <tr>\n",
       "      <th>4</th>\n",
       "      <td>26869230</td>\n",
       "    </tr>\n",
       "    <tr>\n",
       "      <th>5</th>\n",
       "      <td>17942534</td>\n",
       "    </tr>\n",
       "    <tr>\n",
       "      <th>6</th>\n",
       "      <td>12878964</td>\n",
       "    </tr>\n",
       "    <tr>\n",
       "      <th>7</th>\n",
       "      <td>9691732</td>\n",
       "    </tr>\n",
       "    <tr>\n",
       "      <th>8</th>\n",
       "      <td>7573614</td>\n",
       "    </tr>\n",
       "    <tr>\n",
       "      <th>9</th>\n",
       "      <td>6036047</td>\n",
       "    </tr>\n",
       "    <tr>\n",
       "      <th>10</th>\n",
       "      <td>5003689</td>\n",
       "    </tr>\n",
       "  </tbody>\n",
       "</table>\n",
       "</div>"
      ],
      "text/plain": [
       "                 usersCount\n",
       "pageViewsByUser            \n",
       "1                 458234809\n",
       "2                  94245789\n",
       "3                  44977389\n",
       "4                  26869230\n",
       "5                  17942534\n",
       "6                  12878964\n",
       "7                   9691732\n",
       "8                   7573614\n",
       "9                   6036047\n",
       "10                  5003689"
      ]
     },
     "execution_count": 47,
     "metadata": {},
     "output_type": "execute_result"
    }
   ],
   "source": [
    "page_views_by_user_pandas.columns = ['pageViewsByUser', 'usersCount']\n",
    "page_views_by_user_pandas = page_views_by_user_pandas.set_index('pageViewsByUser').sort_index()\n",
    "page_views_by_user_pandas.head(10)"
   ]
  },
  {
   "cell_type": "markdown",
   "metadata": {},
   "source": [
    "**Total number of distinct users in page views**"
   ]
  },
  {
   "cell_type": "code",
   "execution_count": 167,
   "metadata": {},
   "outputs": [
    {
     "data": {
      "text/plain": [
       "717506889"
      ]
     },
     "execution_count": 167,
     "metadata": {},
     "output_type": "execute_result"
    }
   ],
   "source": [
    "distinct_users_count = page_views_by_user_pandas['usersCount'].sum()\n",
    "distinct_users_count"
   ]
  },
  {
   "cell_type": "markdown",
   "metadata": {},
   "source": [
    "The **Average page views by user** indicates that we have higher average (**2.835**) in **page views** dataset, when compared to the **events dataset** (**1.167**)."
   ]
  },
  {
   "cell_type": "code",
   "execution_count": 171,
   "metadata": {},
   "outputs": [
    {
     "data": {
      "text/plain": [
       "2.8351998833561027"
      ]
     },
     "execution_count": 171,
     "metadata": {},
     "output_type": "execute_result"
    }
   ],
   "source": [
    "avg_page_views_by_user = page_views_count / float(distinct_users_count)\n",
    "avg_page_views_by_user"
   ]
  },
  {
   "cell_type": "markdown",
   "metadata": {},
   "source": [
    "Plotting the number of users (y axis) by the count of their page views (x axis). We can see that most users (458234809 ~ 5*10^8) have only 1 page view during the period."
   ]
  },
  {
   "cell_type": "code",
   "execution_count": 51,
   "metadata": {
    "collapsed": true
   },
   "outputs": [],
   "source": [
    "%matplotlib inline"
   ]
  },
  {
   "cell_type": "code",
   "execution_count": 53,
   "metadata": {},
   "outputs": [
    {
     "data": {
      "text/plain": [
       "<matplotlib.axes._subplots.AxesSubplot at 0x7fe6ec45a358>"
      ]
     },
     "execution_count": 53,
     "metadata": {},
     "output_type": "execute_result"
    },
    {
     "data": {
      "image/png": "[encoded data removed]",
      "text/plain": [
       "<matplotlib.figure.Figure at 0x7fe6ec462240>"
      ]
     },
     "metadata": {},
     "output_type": "display_data"
    }
   ],
   "source": [
    "page_views_by_user_pandas.head(20).plot.bar(y='usersCount')"
   ]
  },
  {
   "cell_type": "markdown",
   "metadata": {},
   "source": [
    "Calculating the cumulative percentual of users with at most N page views"
   ]
  },
  {
   "cell_type": "code",
   "execution_count": 49,
   "metadata": {
    "collapsed": true
   },
   "outputs": [],
   "source": [
    "page_views_by_user_pandas['cum_perc'] = (page_views_by_user_pandas['usersCount'].cumsum() / distinct_users_count) * 100"
   ]
  },
  {
   "cell_type": "code",
   "execution_count": 50,
   "metadata": {},
   "outputs": [
    {
     "data": {
      "text/html": [
       "<div>\n",
       "<table border=\"1\" class=\"dataframe\">\n",
       "  <thead>\n",
       "    <tr style=\"text-align: right;\">\n",
       "      <th></th>\n",
       "      <th>usersCount</th>\n",
       "      <th>cum_perc</th>\n",
       "    </tr>\n",
       "    <tr>\n",
       "      <th>pageViewsByUser</th>\n",
       "      <th></th>\n",
       "      <th></th>\n",
       "    </tr>\n",
       "  </thead>\n",
       "  <tbody>\n",
       "    <tr>\n",
       "      <th>1</th>\n",
       "      <td>458234809</td>\n",
       "      <td>63.864865</td>\n",
       "    </tr>\n",
       "    <tr>\n",
       "      <th>2</th>\n",
       "      <td>94245789</td>\n",
       "      <td>77.000041</td>\n",
       "    </tr>\n",
       "    <tr>\n",
       "      <th>3</th>\n",
       "      <td>44977389</td>\n",
       "      <td>83.268606</td>\n",
       "    </tr>\n",
       "    <tr>\n",
       "      <th>4</th>\n",
       "      <td>26869230</td>\n",
       "      <td>87.013411</td>\n",
       "    </tr>\n",
       "    <tr>\n",
       "      <th>5</th>\n",
       "      <td>17942534</td>\n",
       "      <td>89.514088</td>\n",
       "    </tr>\n",
       "    <tr>\n",
       "      <th>6</th>\n",
       "      <td>12878964</td>\n",
       "      <td>91.309049</td>\n",
       "    </tr>\n",
       "    <tr>\n",
       "      <th>7</th>\n",
       "      <td>9691732</td>\n",
       "      <td>92.659800</td>\n",
       "    </tr>\n",
       "    <tr>\n",
       "      <th>8</th>\n",
       "      <td>7573614</td>\n",
       "      <td>93.715346</td>\n",
       "    </tr>\n",
       "    <tr>\n",
       "      <th>9</th>\n",
       "      <td>6036047</td>\n",
       "      <td>94.556598</td>\n",
       "    </tr>\n",
       "    <tr>\n",
       "      <th>10</th>\n",
       "      <td>5003689</td>\n",
       "      <td>95.253970</td>\n",
       "    </tr>\n",
       "  </tbody>\n",
       "</table>\n",
       "</div>"
      ],
      "text/plain": [
       "                 usersCount   cum_perc\n",
       "pageViewsByUser                       \n",
       "1                 458234809  63.864865\n",
       "2                  94245789  77.000041\n",
       "3                  44977389  83.268606\n",
       "4                  26869230  87.013411\n",
       "5                  17942534  89.514088\n",
       "6                  12878964  91.309049\n",
       "7                   9691732  92.659800\n",
       "8                   7573614  93.715346\n",
       "9                   6036047  94.556598\n",
       "10                  5003689  95.253970"
      ]
     },
     "execution_count": 50,
     "metadata": {},
     "output_type": "execute_result"
    }
   ],
   "source": [
    "page_views_by_user_pandas.head(10)"
   ]
  },
  {
   "cell_type": "markdown",
   "metadata": {},
   "source": [
    "In cumulative chart, we can see that 65% of the users have only 1 page view, 77%, have at most 2 page views and 89% of the users have at most 5 page views. "
   ]
  },
  {
   "cell_type": "code",
   "execution_count": 52,
   "metadata": {},
   "outputs": [
    {
     "data": {
      "text/plain": [
       "<matplotlib.axes._subplots.AxesSubplot at 0x7fe6ec6444a8>"
      ]
     },
     "execution_count": 52,
     "metadata": {},
     "output_type": "execute_result"
    },
    {
     "data": {
      "image/png": "[encoded data removed]",
      "text/plain": [
       "<matplotlib.figure.Figure at 0x7fe6ec682f60>"
      ]
     },
     "metadata": {},
     "output_type": "display_data"
    }
   ],
   "source": [
    "page_views_by_user_pandas.head(20).plot.line(y='cum_perc')"
   ]
  },
  {
   "cell_type": "markdown",
   "metadata": {},
   "source": [
    "In the long tail, we can see there are users with more than 600 page views during that period!"
   ]
  },
  {
   "cell_type": "code",
   "execution_count": 168,
   "metadata": {
    "scrolled": true
   },
   "outputs": [
    {
     "data": {
      "text/html": [
       "<div>\n",
       "<table border=\"1\" class=\"dataframe\">\n",
       "  <thead>\n",
       "    <tr style=\"text-align: right;\">\n",
       "      <th></th>\n",
       "      <th>usersCount</th>\n",
       "      <th>cum_perc</th>\n",
       "    </tr>\n",
       "    <tr>\n",
       "      <th>pageViewsByUser</th>\n",
       "      <th></th>\n",
       "      <th></th>\n",
       "    </tr>\n",
       "  </thead>\n",
       "  <tbody>\n",
       "    <tr>\n",
       "      <th>668</th>\n",
       "      <td>2</td>\n",
       "      <td>99.999999</td>\n",
       "    </tr>\n",
       "    <tr>\n",
       "      <th>675</th>\n",
       "      <td>1</td>\n",
       "      <td>99.999999</td>\n",
       "    </tr>\n",
       "    <tr>\n",
       "      <th>677</th>\n",
       "      <td>1</td>\n",
       "      <td>99.999999</td>\n",
       "    </tr>\n",
       "    <tr>\n",
       "      <th>684</th>\n",
       "      <td>1</td>\n",
       "      <td>99.999999</td>\n",
       "    </tr>\n",
       "    <tr>\n",
       "      <th>696</th>\n",
       "      <td>1</td>\n",
       "      <td>99.999999</td>\n",
       "    </tr>\n",
       "    <tr>\n",
       "      <th>703</th>\n",
       "      <td>1</td>\n",
       "      <td>99.999999</td>\n",
       "    </tr>\n",
       "    <tr>\n",
       "      <th>704</th>\n",
       "      <td>1</td>\n",
       "      <td>100.000000</td>\n",
       "    </tr>\n",
       "    <tr>\n",
       "      <th>718</th>\n",
       "      <td>1</td>\n",
       "      <td>100.000000</td>\n",
       "    </tr>\n",
       "    <tr>\n",
       "      <th>811</th>\n",
       "      <td>1</td>\n",
       "      <td>100.000000</td>\n",
       "    </tr>\n",
       "    <tr>\n",
       "      <th>829</th>\n",
       "      <td>1</td>\n",
       "      <td>100.000000</td>\n",
       "    </tr>\n",
       "  </tbody>\n",
       "</table>\n",
       "</div>"
      ],
      "text/plain": [
       "                 usersCount    cum_perc\n",
       "pageViewsByUser                        \n",
       "668                       2   99.999999\n",
       "675                       1   99.999999\n",
       "677                       1   99.999999\n",
       "684                       1   99.999999\n",
       "696                       1   99.999999\n",
       "703                       1   99.999999\n",
       "704                       1  100.000000\n",
       "718                       1  100.000000\n",
       "811                       1  100.000000\n",
       "829                       1  100.000000"
      ]
     },
     "execution_count": 168,
     "metadata": {},
     "output_type": "execute_result"
    }
   ],
   "source": [
    "page_views_by_user_pandas.tail(10)"
   ]
  },
  {
   "cell_type": "markdown",
   "metadata": {},
   "source": [
    "## Page views by Platform"
   ]
  },
  {
   "cell_type": "code",
   "execution_count": 181,
   "metadata": {},
   "outputs": [
    {
     "name": "stdout",
     "output_type": "stream",
     "text": [
      "CPU times: user 52 ms, sys: 16 ms, total: 68 ms\n",
      "Wall time: 5min 26s\n"
     ]
    }
   ],
   "source": [
    "%time page_views_by_platform_pandas = page_views_df.groupBy('platform').count().toPandas()"
   ]
  },
  {
   "cell_type": "code",
   "execution_count": 182,
   "metadata": {},
   "outputs": [
    {
     "data": {
      "text/html": [
       "<div>\n",
       "<table border=\"1\" class=\"dataframe\">\n",
       "  <thead>\n",
       "    <tr style=\"text-align: right;\">\n",
       "      <th></th>\n",
       "      <th>count</th>\n",
       "    </tr>\n",
       "    <tr>\n",
       "      <th>platform</th>\n",
       "      <th></th>\n",
       "    </tr>\n",
       "  </thead>\n",
       "  <tbody>\n",
       "    <tr>\n",
       "      <th>1</th>\n",
       "      <td>790149483</td>\n",
       "    </tr>\n",
       "    <tr>\n",
       "      <th>2</th>\n",
       "      <td>1053365944</td>\n",
       "    </tr>\n",
       "    <tr>\n",
       "      <th>3</th>\n",
       "      <td>190760021</td>\n",
       "    </tr>\n",
       "  </tbody>\n",
       "</table>\n",
       "</div>"
      ],
      "text/plain": [
       "               count\n",
       "platform            \n",
       "1          790149483\n",
       "2         1053365944\n",
       "3          190760021"
      ]
     },
     "execution_count": 182,
     "metadata": {},
     "output_type": "execute_result"
    }
   ],
   "source": [
    "page_views_by_platform_pandas = page_views_by_platform_pandas.set_index('platform').sort_index()\n",
    "page_views_by_platform_pandas"
   ]
  },
  {
   "cell_type": "markdown",
   "metadata": {},
   "source": [
    "**Distribution of page views by platform**"
   ]
  },
  {
   "cell_type": "code",
   "execution_count": 183,
   "metadata": {},
   "outputs": [
    {
     "data": {
      "text/plain": [
       "<matplotlib.axes._subplots.AxesSubplot at 0x7fe6ec22bda0>"
      ]
     },
     "execution_count": 183,
     "metadata": {},
     "output_type": "execute_result"
    },
    {
     "data": {
      "image/png": "[encoded data removed]",
      "text/plain": [
       "<matplotlib.figure.Figure at 0x7fe6ec26bb38>"
      ]
     },
     "metadata": {},
     "output_type": "display_data"
    }
   ],
   "source": [
    "page_views_by_platform_pandas.plot.pie(y='count', figsize=(6, 6), labels=['Desktop (1)', 'Mobile (2)', 'Tablet (3)'], \n",
    "              title='Page Views by platform', autopct='%.2f', fontsize=15)"
   ]
  },
  {
   "cell_type": "markdown",
   "metadata": {},
   "source": [
    "## Page views by Traffic Source"
   ]
  },
  {
   "cell_type": "code",
   "execution_count": 184,
   "metadata": {},
   "outputs": [
    {
     "name": "stdout",
     "output_type": "stream",
     "text": [
      "CPU times: user 40 ms, sys: 124 ms, total: 164 ms\n",
      "Wall time: 5min 26s\n"
     ]
    }
   ],
   "source": [
    "%time page_views_by_traffic_source_pandas = page_views_df.groupBy('traffic_source').count().toPandas()"
   ]
  },
  {
   "cell_type": "code",
   "execution_count": 185,
   "metadata": {},
   "outputs": [
    {
     "data": {
      "text/html": [
       "<div>\n",
       "<table border=\"1\" class=\"dataframe\">\n",
       "  <thead>\n",
       "    <tr style=\"text-align: right;\">\n",
       "      <th></th>\n",
       "      <th>count</th>\n",
       "    </tr>\n",
       "    <tr>\n",
       "      <th>traffic_source</th>\n",
       "      <th></th>\n",
       "    </tr>\n",
       "  </thead>\n",
       "  <tbody>\n",
       "    <tr>\n",
       "      <th>1</th>\n",
       "      <td>1293550863</td>\n",
       "    </tr>\n",
       "    <tr>\n",
       "      <th>2</th>\n",
       "      <td>343133832</td>\n",
       "    </tr>\n",
       "    <tr>\n",
       "      <th>3</th>\n",
       "      <td>397590753</td>\n",
       "    </tr>\n",
       "  </tbody>\n",
       "</table>\n",
       "</div>"
      ],
      "text/plain": [
       "                     count\n",
       "traffic_source            \n",
       "1               1293550863\n",
       "2                343133832\n",
       "3                397590753"
      ]
     },
     "execution_count": 185,
     "metadata": {},
     "output_type": "execute_result"
    }
   ],
   "source": [
    "page_views_by_traffic_source_pandas = page_views_by_traffic_source_pandas.set_index('traffic_source').sort_index()\n",
    "page_views_by_traffic_source_pandas"
   ]
  },
  {
   "cell_type": "markdown",
   "metadata": {},
   "source": [
    "**Distribution of page views by traffic source**"
   ]
  },
  {
   "cell_type": "code",
   "execution_count": 186,
   "metadata": {},
   "outputs": [
    {
     "data": {
      "text/plain": [
       "<matplotlib.axes._subplots.AxesSubplot at 0x7fe6ec237b38>"
      ]
     },
     "execution_count": 186,
     "metadata": {},
     "output_type": "execute_result"
    },
    {
     "data": {
      "image/png": "[encoded data removed]",
      "text/plain": [
       "<matplotlib.figure.Figure at 0x7fe6ec2bdf60>"
      ]
     },
     "metadata": {},
     "output_type": "display_data"
    }
   ],
   "source": [
    "page_views_by_traffic_source_pandas.plot.pie(y='count', figsize=(6, 6), labels=['Internal (1)', 'Search (2)', 'Social (3)'], \n",
    "              title='Page Views by Traffic Source', autopct='%.2f', fontsize=15)"
   ]
  },
  {
   "cell_type": "markdown",
   "metadata": {},
   "source": [
    "## Users visiting a page more than once"
   ]
  },
  {
   "cell_type": "markdown",
   "metadata": {},
   "source": [
    "Surprisingly, there are **47937415 repeated combinations of users visiting a page more than once**."
   ]
  },
  {
   "cell_type": "code",
   "execution_count": 187,
   "metadata": {},
   "outputs": [
    {
     "data": {
      "text/plain": [
       "47937415"
      ]
     },
     "execution_count": 187,
     "metadata": {},
     "output_type": "execute_result"
    }
   ],
   "source": [
    "page_views_by_user_doc_df = page_views_df.groupBy(['uuid','document_id']).count().alias('count').filter('count > 1')\n",
    "page_views_by_user_doc_df.count()"
   ]
  },
  {
   "cell_type": "code",
   "execution_count": 188,
   "metadata": {},
   "outputs": [
    {
     "name": "stdout",
     "output_type": "stream",
     "text": [
      "+--------------+-----------+-----+\n",
      "|          uuid|document_id|count|\n",
      "+--------------+-----------+-----+\n",
      "|6a5618eba26990|      25529|    2|\n",
      "|571016386ffee7|      25792|    6|\n",
      "|6a91157d820e37|      25792|    6|\n",
      "|2aec87c28309c5|      25792|    2|\n",
      "|b97961739d2f29|      25792|    2|\n",
      "|a743b03f2b8ddc|      25792|    3|\n",
      "|8d87becfb35857|      25792|    4|\n",
      "|6d82e412aa0f0d|      25792|    8|\n",
      "|ad45fc764587b0|      25792|    6|\n",
      "|29ebac4412da91|      25792|    2|\n",
      "+--------------+-----------+-----+\n",
      "only showing top 10 rows\n",
      "\n"
     ]
    }
   ],
   "source": [
    "page_views_by_user_doc_df.show(10)"
   ]
  },
  {
   "cell_type": "markdown",
   "metadata": {},
   "source": [
    "If we sample one of those repeated combinations, we observe a user which has visited the same page in 6 different days..."
   ]
  },
  {
   "cell_type": "code",
   "execution_count": 190,
   "metadata": {},
   "outputs": [
    {
     "name": "stdout",
     "output_type": "stream",
     "text": [
      "+--------------+-----------+---------+--------+------------+--------------+\n",
      "|          uuid|document_id|timestamp|platform|geo_location|traffic_source|\n",
      "+--------------+-----------+---------+--------+------------+--------------+\n",
      "|571016386ffee7|      25792| 49576389|       1|   US>MO>616|             1|\n",
      "|571016386ffee7|      25792|120316675|       1|   US>MO>616|             1|\n",
      "|571016386ffee7|      25792|576124810|       1|   US>MO>616|             1|\n",
      "|571016386ffee7|      25792|639792203|       1|   US>MO>616|             1|\n",
      "|571016386ffee7|      25792|724651242|       1|   US>MO>616|             1|\n",
      "|571016386ffee7|      25792|817713829|       1|   US>MO>616|             1|\n",
      "+--------------+-----------+---------+--------+------------+--------------+\n",
      "\n"
     ]
    }
   ],
   "source": [
    "page_views_df.filter('uuid=\"571016386ffee7\" and document_id=25792').show()"
   ]
  },
  {
   "cell_type": "code",
   "execution_count": 217,
   "metadata": {},
   "outputs": [
    {
     "name": "stdout",
     "output_type": "stream",
     "text": [
      "2016-06-14 17:46:16\n",
      "2016-06-15 13:25:16\n",
      "2016-06-20 20:02:04\n",
      "2016-06-21 13:43:12\n",
      "2016-06-22 13:17:31\n",
      "2016-06-23 15:08:33\n"
     ]
    }
   ],
   "source": [
    "for ts in [49576389, 120316675, 576124810, 639792203, 724651242, 817713829]:\n",
    "    print(convert_odd_timestamp(ts))"
   ]
  },
  {
   "cell_type": "markdown",
   "metadata": {},
   "source": [
    "# Exploring relationship with Events"
   ]
  },
  {
   "cell_type": "markdown",
   "metadata": {},
   "source": [
    "## Loading events.csv"
   ]
  },
  {
   "cell_type": "markdown",
   "metadata": {},
   "source": [
    "In this section we explore Page Views and Events relationship."
   ]
  },
  {
   "cell_type": "code",
   "execution_count": 66,
   "metadata": {
    "collapsed": true
   },
   "outputs": [],
   "source": [
    "events_schema = StructType(\n",
    "                    [StructField(\"display_id\", IntegerType(), True),\n",
    "                    StructField(\"uuid\", StringType(), True),\n",
    "                    StructField(\"document_id\", IntegerType(), True),\n",
    "                    StructField(\"timestamp\", IntegerType(), True),\n",
    "                    StructField(\"platform\", IntegerType(), True),\n",
    "                    StructField(\"geo_location\", StringType(), True)]\n",
    "                    )\n",
    "\n",
    "events_df = spark.read \\\n",
    "            .schema(events_schema) \\\n",
    "            .options(header='true', inferschema='false', nullValue='\\\\N') \\\n",
    "            .csv(\"gs://sc-ml-hdfs-prd/tmp/outbrain/events.csv\").cache()"
   ]
  },
  {
   "cell_type": "code",
   "execution_count": 67,
   "metadata": {},
   "outputs": [
    {
     "data": {
      "text/plain": [
       "10"
      ]
     },
     "execution_count": 67,
     "metadata": {},
     "output_type": "execute_result"
    }
   ],
   "source": [
    "events_df.rdd.getNumPartitions()"
   ]
  },
  {
   "cell_type": "code",
   "execution_count": 69,
   "metadata": {},
   "outputs": [
    {
     "name": "stdout",
     "output_type": "stream",
     "text": [
      "+----------+--------------+-----------+---------+--------+------------+\n",
      "|display_id|          uuid|document_id|timestamp|platform|geo_location|\n",
      "+----------+--------------+-----------+---------+--------+------------+\n",
      "|         1|cb8c55702adb93|     379743|       61|       3|   US>SC>519|\n",
      "|         2|79a85fa78311b9|    1794259|       81|       2|   US>CA>807|\n",
      "|         3|822932ce3d8757|    1179111|      182|       2|   US>MI>505|\n",
      "|         4|85281d0a49f7ac|    1777797|      234|       2|   US>WV>564|\n",
      "|         5|8d0daef4bf5b56|     252458|      338|       2|       SG>00|\n",
      "|         6|7765b4faae4ad4|    1773517|      395|       3|   US>OH>510|\n",
      "|         7|2cc3f6457d16da|    1149661|      602|       2|   US>MT>762|\n",
      "|         8|166fc654d73c98|    1330329|      638|       2|   US>PA>566|\n",
      "|         9|9dddccf70f6067|    1772126|      667|       1|   US>FL>528|\n",
      "|        10|b09a0e92aa4d17|     157455|      693|       1|          US|\n",
      "|        11|602e210c5831e5|    1773230|      710|       3|   US>IL>675|\n",
      "|        12|6fa993bd0e0157|     892701|      718|       1|   US>TX>612|\n",
      "|        13|7355615832b3af|    1778533|      739|       1|   US>AZ>753|\n",
      "|        14|daef797fc210a2|    1759953|      798|       3|   US>NC>560|\n",
      "|        15|24c64dc30891c0|    1777136|     1000|       2|          GB|\n",
      "|        16|30c0ad12b36375|    1727882|     1033|       1|   US>FL>561|\n",
      "|        17|c80c06d718ba65|    1667725|     1044|       2|   US>MI>540|\n",
      "|        18|eb58e66b4f6bb0|     429183|     1175|       2|   US>OR>820|\n",
      "|        19|c419799a427c72|    1155107|     1202|       3|   US>HI>744|\n",
      "|        20|650e3b5699738b|    1642724|     1282|       2|   US>MI>505|\n",
      "+----------+--------------+-----------+---------+--------+------------+\n",
      "only showing top 20 rows\n",
      "\n"
     ]
    }
   ],
   "source": [
    "events_df.show()"
   ]
  },
  {
   "cell_type": "markdown",
   "metadata": {},
   "source": [
    "**Events count**"
   ]
  },
  {
   "cell_type": "code",
   "execution_count": 68,
   "metadata": {},
   "outputs": [
    {
     "name": "stdout",
     "output_type": "stream",
     "text": [
      "CPU times: user 4 ms, sys: 4 ms, total: 8 ms\n",
      "Wall time: 27.8 s\n"
     ]
    },
    {
     "data": {
      "text/plain": [
       "23120126"
      ]
     },
     "execution_count": 68,
     "metadata": {},
     "output_type": "execute_result"
    }
   ],
   "source": [
    "%time events_count = events_df.count()\n",
    "events_count"
   ]
  },
  {
   "cell_type": "markdown",
   "metadata": {},
   "source": [
    "**Distinct users in events**"
   ]
  },
  {
   "cell_type": "code",
   "execution_count": 220,
   "metadata": {},
   "outputs": [
    {
     "name": "stdout",
     "output_type": "stream",
     "text": [
      "CPU times: user 12 ms, sys: 0 ns, total: 12 ms\n",
      "Wall time: 5.97 s\n"
     ]
    },
    {
     "data": {
      "text/plain": [
       "19794967"
      ]
     },
     "execution_count": 220,
     "metadata": {},
     "output_type": "execute_result"
    }
   ],
   "source": [
    "%time distinct_events_users = events_df.agg(F.countDistinct(\"uuid\").alias('count')).collect()[0]['count']\n",
    "distinct_events_users"
   ]
  },
  {
   "cell_type": "markdown",
   "metadata": {},
   "source": [
    "**Average events by user**"
   ]
  },
  {
   "cell_type": "code",
   "execution_count": 191,
   "metadata": {},
   "outputs": [
    {
     "data": {
      "text/plain": [
       "1.1679800223966021"
      ]
     },
     "execution_count": 191,
     "metadata": {},
     "output_type": "execute_result"
    }
   ],
   "source": [
    "avg_events_by_user = events_count / float(distinct_events_users)\n",
    "avg_events_by_user"
   ]
  },
  {
   "cell_type": "markdown",
   "metadata": {},
   "source": [
    "**Creating a dummy columns on Page Views and Events datasets, which will be useful to filter matches in outer joins**"
   ]
  },
  {
   "cell_type": "markdown",
   "metadata": {},
   "source": [
    "When joining DataFrames, the resulting DataFrame keeps only one column for each of the join fields. Thus, we've included dummy columns (dummyPageView, dummyEvent) on each dataset to be able to identify rows where there is a match (both dummy columns filled). Otherwise, only one of dummy columns will be filled and the other will be None (because its an outer join)."
   ]
  },
  {
   "cell_type": "code",
   "execution_count": 192,
   "metadata": {
    "collapsed": true
   },
   "outputs": [],
   "source": [
    "page_views_df = page_views_df.withColumn('dummyPageView', F.lit(1))\n",
    "events_df = events_df.withColumn('dummyEvent', F.lit(1))"
   ]
  },
  {
   "cell_type": "markdown",
   "metadata": {},
   "source": [
    "### Performing a join between page views and events, on fields uuid and document_id"
   ]
  },
  {
   "cell_type": "markdown",
   "metadata": {},
   "source": [
    "Here we perform an outer join between page_views.csv and events.csv datasets, on uuid and document_id fields. The objective is to explore rows matches, and see if events dataset subset is a subset of page views.  "
   ]
  },
  {
   "cell_type": "code",
   "execution_count": 193,
   "metadata": {
    "collapsed": true
   },
   "outputs": [],
   "source": [
    "page_views_events_joined_by_uuid_document_df = page_views_df.alias('page_views').join(events_df.alias('events'), on=['uuid','document_id'], how='outer')"
   ]
  },
  {
   "cell_type": "markdown",
   "metadata": {},
   "source": [
    "Count of events without a match on page views (0). We can see that all combinations of (uuid, document_id) events are represented on page views dataset."
   ]
  },
  {
   "cell_type": "code",
   "execution_count": 194,
   "metadata": {},
   "outputs": [
    {
     "name": "stdout",
     "output_type": "stream",
     "text": [
      "CPU times: user 164 ms, sys: 16 ms, total: 180 ms\n",
      "Wall time: 16min 20s\n"
     ]
    },
    {
     "data": {
      "text/plain": [
       "0"
      ]
     },
     "execution_count": 194,
     "metadata": {},
     "output_type": "execute_result"
    }
   ],
   "source": [
    "%time page_views_events_joined_by_uuid_document_df.filter('dummyEvent is not null and dummyPageView is null').count()"
   ]
  },
  {
   "cell_type": "markdown",
   "metadata": {},
   "source": [
    "In the matches (uuid, document_id) table below, we can see that for (uuid=10012c47f7317b, document_id=2897953) there are two records on Page Views (left side), but only one record in Events (right side), repeated with display_id=21485757.  \n",
    "As the fields platform (3) and geo_location (US>CO>751) are also equal, this suggests that **timestamp is important when joining page views and events, as the user might visit a page more than once, at different times**."
   ]
  },
  {
   "cell_type": "code",
   "execution_count": 76,
   "metadata": {},
   "outputs": [
    {
     "name": "stdout",
     "output_type": "stream",
     "text": [
      "+--------------+-----------+----------+--------+------------+--------------+----------+----------+--------+------------+\n",
      "|          uuid|document_id| timestamp|platform|geo_location|traffic_source|display_id| timestamp|platform|geo_location|\n",
      "+--------------+-----------+----------+--------+------------+--------------+----------+----------+--------+------------+\n",
      "|100025359c1e4b|     542474| 239288958|       3|          ZA|             1|   3749002| 239293893|       3|          ZA|\n",
      "|10003a00054aa3|     573399| 252875434|       2|   US>MA>506|             1|   3972594| 252875434|       2|   US>MA>506|\n",
      "|10012c47f7317b|    2897953|1212693052|       3|   US>CO>751|             1|  21485757|1207434141|       3|   US>CO>751|\n",
      "|10012c47f7317b|    2897953|1207434141|       3|   US>CO>751|             1|  21485757|1207434141|       3|   US>CO>751|\n",
      "|10013cf2933dd1|    2287664| 636931394|       1|   US>MO>609|             1|   9359025| 636931394|       1|   US>MO>609|\n",
      "|10031b0b19b6a6|    1984874| 339728683|       2|   US>FL>539|             3|   5248084| 339728683|       2|   US>FL>539|\n",
      "|1003a343464da3|     641298| 732411861|       1|   US>MI>563|             1|  18800263| 732411861|       1|   US>MI>563|\n",
      "|1003b0110e0e82|    2631247| 853805550|       1|   US>GA>503|             1|  19160961| 853806655|       1|   US>GA>503|\n",
      "|100412cf7c613f|    1305530| 191532005|       2|       GB>H7|             1|   2901780| 191532467|       2|       GB>H7|\n",
      "|100655b134ceb2|    1254803| 936285398|       2|   US>VA>511|             2|  14255514| 936285398|       2|   US>VA>511|\n",
      "|10068ce0a48328|      13319| 664331049|       3|       CA>BC|             2|   9910263| 664331472|       3|       CA>BC|\n",
      "|1006a35734679c|    2729051|1286419339|       3|       MY>12|             1|  22943569|1286419339|       3|       MY>12|\n",
      "|100708c823ce81|    2241722| 496443973|       3|   US>VA>511|             1|   7233639| 496444493|       3|   US>VA>511|\n",
      "|10083c097a3264|    1146123| 754677444|       1|       CM>05|             1|  11371820| 754677444|       1|       CM>05|\n",
      "|10087ce9350dd8|    1413545| 425323913|       1|   US>CA>868|             1|   6357644| 425324428|       1|   US>CA>868|\n",
      "|1009ae5c722da8|    1882802| 161254964|       3|   US>HI>744|             1|   2555949| 161254964|       3|   US>HI>744|\n",
      "|1009b2327213f2|    1654727| 440543174|       2|       GB>K2|             1|   6537695| 440543174|       2|       GB>K2|\n",
      "|100ac27d807d62|    2262848| 560815264|       2|   US>PA>504|             2|   8140881| 560815264|       2|   US>PA>504|\n",
      "|100ad94f7f9d33|    1775106|1059619119|       2|       GB>J8|             1|  15837873|1059619119|       2|       GB>J8|\n",
      "|100bb588e24a42|    1681151|1078448905|       2|   US>FL>534|             1|  19724264|1078448905|       2|   US>FL>534|\n",
      "|100cbbff0a5b1f|    2036709| 222468828|       1|   US>GA>524|             1|   3409755| 222468828|       1|   US>GA>524|\n",
      "|100dad661b3f71|    1816063|  53030746|       1|   US>NE>652|             1|    813537|  53030746|       1|   US>NE>652|\n",
      "|100df0d3f39d92|    1724507|1120872646|       2|   US>SD>764|             1|  16837394|1120872646|       2|   US>SD>764|\n",
      "|100e0331b91072|    2277971| 548662907|       1|       AU>01|             1|  18268023| 548662907|       1|       AU>01|\n",
      "|100f877c435da9|    2660718| 906243636|       2|       DE>01|             2|  19291766| 906243636|       2|       DE>01|\n",
      "|100f935eb09103|    1774580| 235625910|       3|   US>NY>501|             2|   3679555| 235625910|       3|   US>NY>501|\n",
      "|10112449d036f6|    2712026| 931010209|       2|   US>ME>537|             1|  14173605| 931010209|       2|   US>ME>537|\n",
      "|1011c325276473|    1288204|1274862827|       2|       GB>Z1|             1|  22729586|1274865496|       2|       GB>Z1|\n",
      "|1012ebf9e2cdb1|    2596490| 827460594|       2|   US>TX>618|             1|  12466705| 827460594|       2|   US>TX>618|\n",
      "|10133ad6e6c212|    1880985| 112799039|       3|   US>CA>803|             2|   1684481| 112799039|       3|   US>CA>803|\n",
      "|10147ea2e71076|    2368293| 656055289|       2|   US>TX>625|             1|   9735737| 656079705|       2|   US>TX>625|\n",
      "|101488b7e89106|     394689|  58421819|       1|   US>CA>803|             1|   3584446| 231051790|       1|   US>CA>803|\n",
      "|101488b7e89106|     394689| 230937874|       1|   US>CA>803|             1|   3584446| 231051790|       1|   US>CA>803|\n",
      "|1014e6d2391b91|      60164| 367627229|       1|          US|             1|  15847538|1060602761|       1|   US>PA>566|\n",
      "|1014e6d2391b91|      60164| 535909081|       1|          US|             1|  15847538|1060602761|       1|   US>PA>566|\n",
      "|1014e6d2391b91|      60164|1060602338|       1|   US>PA>566|             1|  15847538|1060602761|       1|   US>PA>566|\n",
      "|1014e6d2391b91|      60164| 884642103|       1|   US>PA>566|             1|  15847538|1060602761|       1|   US>PA>566|\n",
      "|1014e6d2391b91|      60164| 627297766|       1|          US|             1|  15847538|1060602761|       1|   US>PA>566|\n",
      "|1014e6d2391b91|      60164|1143583425|       1|   US>PA>566|             1|  15847538|1060602761|       1|   US>PA>566|\n",
      "|1014e6d2391b91|      60164| 456384939|       1|          US|             1|  15847538|1060602761|       1|   US>PA>566|\n",
      "|1014e6d2391b91|      60164| 803800862|       1|          US|             1|  15847538|1060602761|       1|   US>PA>566|\n",
      "|1014e6d2391b91|      60164| 715376948|       1|          US|             1|  15847538|1060602761|       1|   US>PA>566|\n",
      "|1014e6d2391b91|      60164| 973340936|       1|   US>PA>566|             1|  15847538|1060602761|       1|   US>PA>566|\n",
      "|1015a136bb89d5|    1179111| 902357297|       2|       NL>03|             3|  13615396| 902357297|       2|       NL>03|\n",
      "|1015c21198bc2e|    1937353| 135205207|       1|   US>WA>819|             1|   2086130| 135205207|       1|   US>WA>819|\n",
      "|101637a37acd62|    2108111| 784337687|       1|   US>CA>803|             1|  11819050| 784337687|       1|   US>CA>803|\n",
      "|10168eccef2fb1|    2821957|1129824000|       1|       CA>QC|             3|  19943552|1129824000|       1|       CA>QC|\n",
      "|1016ae461f7194|    1772623|   5703583|       2|   US>IN>529|             3|     69222|   5703583|       2|   US>IN>529|\n",
      "|10176291a86e41|      65310| 806301277|       2|   US>SC>507|             1|  12027683| 806301277|       2|   US>SC>507|\n",
      "|101784c0d6c934|      25626|1242588053|       1|       IN>25|             2|  21977209|1242597080|       1|       IN>25|\n",
      "|101952f1e3f865|    1555928| 510520372|       2|       CA>BC|             3|   7443278| 510520372|       2|       CA>BC|\n",
      "|1019b336bf1720|    1943384| 879315766|       3|   US>HI>744|             1|  13273317| 879315766|       3|   US>HI>744|\n",
      "|101ac58c714ad4|    2103573| 571927409|       1|   US>NY>532|             1|   8384045| 571927968|       1|   US>NY>532|\n",
      "|101b1908d81b7e|     199827| 596902886|       2|   US>FL>548|             1|   8881796| 596902886|       2|   US>FL>548|\n",
      "|101bc99bbae8ea|    2799582|1088277253|       1|   US>MA>506|             1|  19753569|1088277673|       1|   US>MA>506|\n",
      "|101c55f5e5907f|    2322438| 572692392|       1|   US>SD>725|             1|   8400704| 572692392|       1|   US>SD>725|\n",
      "|101d1e6fd80dc8|    1686705|  78570583|       2|   US>AZ>753|             1|   1311884|  78570583|       2|   US>AZ>753|\n",
      "|101ef60b51f46a|    2846658|1269471951|       2|   US>TX>618|             3|  22609092|1269471951|       2|   US>TX>618|\n",
      "|101f529df49818|    2282903| 693146050|       1|       CA>QC|             1|  10396979| 693146207|       1|       CA>QC|\n",
      "|101fa3da92ad08|    2330549|1074962816|       2|   US>NC>517|             1|  19712216|1074962816|       2|   US>NC>517|\n",
      "|10202311c8dd2b|    2520315| 759955771|       2|   US>CA>862|             1|  11463912| 759956029|       2|   US>CA>862|\n",
      "|10207c31492ec9|    2127063| 460032874|       3|       CA>QC|             3|   6687190| 460033125|       3|       CA>QC|\n",
      "|1020e22d365bc4|     782847| 805810041|       2|          GB|             1|  12019463| 805810041|       2|          GB|\n",
      "|102241b7bf0451|    2536007| 809978523|       1|   US>TX>618|             1|  12093379| 809979134|       1|   US>TX>618|\n",
      "|102242dfddf5bb|    2102553|1044872937|       2|   US>WI>658|             1|  15704941|1044872937|       2|   US>WI>658|\n",
      "|102256fa0a8a58|    2257328| 506161289|       3|   US>MN>613|             1|   7376382| 506161289|       3|   US>MN>613|\n",
      "|102256fa0a8a58|    2257328| 678105901|       3|   US>MN>613|             1|   7376382| 506161289|       3|   US>MN>613|\n",
      "|1022ecd82be4d8|    1475541|1240739646|       2|   US>NC>517|             1|  21937421|1240739646|       2|   US>NC>517|\n",
      "|10231e5b453f32|     759612| 231453078|       1|       GB>H9|             1|  14090843| 926182688|       1|       GB>H9|\n",
      "|10231e5b453f32|     759612| 926182688|       1|       GB>H9|             1|  14090843| 926182688|       1|       GB>H9|\n",
      "|1023dae1a4a022|    1882701|  81969736|       2|   US>CA>803|             1|  17117514|  81969736|       2|   US>CA>803|\n",
      "|1023de703442de|     408884|  45125771|       2|   US>VA>511|             2|    635292|  45125771|       2|   US>VA>511|\n",
      "|10268a4b15a372|    1268709| 625408689|       2|   US>CA>804|             1|   7236614| 496634431|       2|   US>CA>803|\n",
      "|10268a4b15a372|    1268709| 496634431|       2|   US>CA>803|             2|   7236614| 496634431|       2|   US>CA>803|\n",
      "|1028f346ff4754|    1062653| 766001791|       1|   US>OR>801|             1|  11561259| 766001791|       1|   US>OR>801|\n",
      "|102a70268a925c|    1446303| 175581786|       2|   US>AZ>753|             1|   2768538| 175581786|       2|   US>AZ>753|\n",
      "|102a75d0c348bb|    1503002| 528782699|       2|       ZA>11|             1|   7689771| 528783048|       2|       ZA>11|\n",
      "|102ad4aafb8985|    1828395|  72107570|       2|       SG>00|             3|  17087055|  72107570|       2|       SG>00|\n",
      "|102b8762e08042|    2029005| 287238154|       3|       US>TX|             1|   4352364| 287239533|       3|       US>TX|\n",
      "|102db96cee239d|    2083622| 366478863|       2|       US>FL|             3|   5523732| 366478863|       2|       US>FL|\n",
      "|102e3b3d1cfce4|    2608487| 891263688|       2|          US|             3|  19238717| 891263688|       2|          US|\n",
      "|102e7278ff22a2|    2487723| 747409325|       2|   US>PA>504|             1|  11226362| 747409325|       2|   US>PA>504|\n",
      "|102e9d5b3d4267|    1777210|  85440672|       1|       CA>BC|             1|   1447701|  86598556|       1|       CA>BC|\n",
      "|102e9d5b3d4267|    1777210|  86598556|       1|       CA>BC|             1|   1447701|  86598556|       1|       CA>BC|\n",
      "|102f1c6cecfb3c|    1783789| 499373705|       1|   US>CA>807|             1|   7332699| 503077441|       1|   US>CA>807|\n",
      "|102fc40b24a671|    1419298| 985943471|       1|   US>OH>535|             1|  19497722| 986010393|       1|   US>OH>535|\n",
      "|103034b1ef41eb|    1630584| 583219637|       3|   US>GA>524|             1|  18398359| 583219637|       3|   US>GA>524|\n",
      "|10306dc4746285|     945451| 989355484|       1|   US>CA>807|             1|  14926270| 989356748|       1|   US>CA>807|\n",
      "|103110882ce930|     206329| 745493448|       2|   US>NJ>501|             3|  11187593| 745493448|       2|   US>NJ>501|\n",
      "|103148119d285e|     813249|1087222105|       1|   US>CA>803|             3|  16298407|1087326936|       1|   US>CA>803|\n",
      "|1031662e9f3021|    2055122| 985561743|       3|   US>PA>577|             1|  14857339| 985561743|       3|   US>PA>577|\n",
      "|10322b3e63a65a|    2200917| 500793817|       3|   US>NY>501|             1|   7298905| 500798318|       3|   US>NY>501|\n",
      "|1033c6ea78eb1f|       2861| 559067297|       1|   US>MA>506|             2|    559664|  41587138|       1|   US>MA>506|\n",
      "|1033c6ea78eb1f|       2861|  41587138|       1|   US>MA>506|             2|    559664|  41587138|       1|   US>MA>506|\n",
      "|1033ccd32b661b|    1135368| 851745088|       2|   US>TX>623|             3|  12921921| 851745088|       2|   US>TX>623|\n",
      "|103441daf02843|      60948| 819015261|       1|   US>NC>567|             1|  11051943| 738975169|       1|   US>NC>567|\n",
      "|103441daf02843|      60948| 731193177|       1|   US>NC>567|             1|  11051943| 738975169|       1|   US>NC>567|\n",
      "|1034c4a761ab4d|     623991| 323638222|       3|       CA>AB|             1|  17759611| 323638222|       3|       CA>AB|\n",
      "|103722acace934|    1158222|1132594285|       1|   US>CA>803|             1|  19975986|1132594285|       1|   US>CA>803|\n",
      "|1037e104d1192b|    1860786|1232195740|       2|   US>CA>803|             1|  21779889|1232195740|       2|   US>CA>803|\n",
      "|1037fc273e1fec|    1154913|1142243709|       2|          GB|             1|  20074733|1142243709|       2|          GB|\n",
      "|103949dc495ffe|    2862978|1210137807|       1|   US>WA>819|             3|  21532341|1210137807|       1|   US>WA>819|\n",
      "|1039850430c8f0|    2526129| 849395755|       1|   US>IL>602|             1|  19148693| 849395755|       1|   US>IL>602|\n",
      "|1039b9229cb780|    2084885| 417668045|       1|   US>IN>515|             1|  17979796| 417668045|       1|   US>IN>515|\n",
      "|103b46e9326282|    2627156| 849338781|       2|   US>TX>625|             1|  12883729| 849338781|       2|   US>TX>625|\n",
      "|103b80db70f9e4|    2102878| 340522792|       2|   US>NY>538|             3|  17803603| 340522792|       2|   US>NY>538|\n",
      "|103bdee1f1bfc7|    1690147| 228741055|       1|   US>GA>524|             1|   3536061| 228810448|       1|   US>GA>524|\n",
      "|103c04f330d070|    2481914| 739349729|       1|   US>CA>803|             1|  11059970| 739349729|       1|   US>CA>803|\n",
      "|103c1c50fc4705|    1316528| 655904608|       1|       GB>C6|             1|   9732087| 655904608|       1|       GB>C6|\n",
      "|103c565d6cc919|    1644971|1055525901|       1|       RU>48|             2|  15801702|1055525901|       1|       RU>48|\n",
      "|103cbdcea7a6e8|    2121289| 603612177|       3|   US>MA>506|             3|  18463116| 603614357|       3|   US>MA>506|\n",
      "|103d69734ec849|    1179111| 682998385|       2|   US>CA>803|             3|   8434915| 574216744|       2|   US>CA>803|\n",
      "|103d69734ec849|    1179111| 574216744|       2|   US>CA>803|             3|   8434915| 574216744|       2|   US>CA>803|\n",
      "|103d69734ec849|    1179111|1212530201|       2|   US>CA>803|             1|   8434915| 574216744|       2|   US>CA>803|\n",
      "|103d6cec524813|     781946| 744586831|       1|          GB|             2|  11169356| 744590470|       1|          GB|\n",
      "|103d84992e4897|    2240621| 515857466|       2|   US>TX>618|             1|   7529336| 515857466|       2|   US>TX>618|\n",
      "|103d97daa51548|    2088091| 299109500|       2|   US>NY>501|             1|   4564068| 299109500|       2|   US>NY>501|\n",
      "|103e65710f1508|    2355210| 614241075|       3|   US>CA>807|             1|  18483300| 614241075|       3|   US>CA>807|\n",
      "|103ede5986c82a|       7054| 959814381|       2|       SA>10|             1|  19444199| 959814381|       2|       SA>10|\n",
      "|103fa9ffc61556|    2508923| 819460284|       1|   US>TX>618|             2|  19043916| 819460710|       1|   US>TX>618|\n",
      "|1040b1e87e1ee7|     468335| 244027315|       1|   US>NC>517|             3|   3830171| 244027315|       1|   US>NC>517|\n",
      "|1042c60a88f3e4|    1302979|1018648293|       3|       GB>F8|             3|  15367911|1018648293|       3|       GB>F8|\n",
      "|1043a2285fd489|     403505| 195736021|       2|          ZA|             1|  17393148| 195736021|       2|          ZA|\n",
      "|1043f9dc59eaa2|    1233145| 559498276|       2|   US>NC>560|             1|   8112340| 559498276|       2|   US>NC>560|\n",
      "|10441aac01b321|    2724733| 992654771|       1|   US>WA>819|             1|  14985228| 992654771|       1|   US>WA>819|\n",
      "|10448baa63e1aa|    2626826| 913525052|       1|   US>VA>511|             1|  13846573| 913525052|       1|   US>VA>511|\n",
      "|1045d1397e0f20|    2083509| 265608272|       2|   US>CA>803|             2|   4149368| 265608272|       2|   US>CA>803|\n",
      "|10461d4674b8df|    1449981| 276494807|       2|   US>CO>751|             3|   4239263| 276494807|       2|   US>CO>751|\n",
      "|1047cb09808a03|    2124489| 592986157|       1|   US>AR>734|             1|   8810339| 592987154|       1|   US>AR>734|\n",
      "|1047df411a722d|    1744653| 473391468|       3|   US>CA>803|             1|   5796801| 385708702|       3|   US>CA>803|\n",
      "|1047df411a722d|    1744653| 554526103|       3|   US>CA>803|             1|   5796801| 385708702|       3|   US>CA>803|\n",
      "|1047df411a722d|    1744653| 608270338|       3|   US>CA>803|             1|   5796801| 385708702|       3|   US>CA>803|\n",
      "|1047df411a722d|    1744653| 385707937|       3|   US>CA>803|             1|   5796801| 385708702|       3|   US>CA>803|\n",
      "|10484789495ee2|      77718|1224106570|       3|       GB>I2|             1|  21708890|1225803625|       3|       GB>I2|\n",
      "|1048c6f1b705d5|    1796200|   5811674|       1|       CA>BC|             1|     70321|   5811674|       1|       CA>BC|\n",
      "|104926b096f103|    2616889| 836418570|       2|   US>OH>547|             1|  12651900| 836418570|       2|   US>OH>547|\n",
      "|104953deea86f1|    1268736| 423174702|       1|   US>GA>520|             1|   6329427| 423259373|       1|   US>GA>520|\n",
      "|1049675f602579|    2915491|1213241537|       2|   US>WA>819|             3|  21575229|1213241537|       2|   US>WA>819|\n",
      "|1049b336d8ab79|    1367396| 706933542|       1|   US>CA>807|             1|  10521167| 706933542|       1|   US>CA>807|\n",
      "|104a3cdcc6da3f|    1692269| 317443061|       1|   US>MA>506|             1|   4905232| 317443061|       1|   US>MA>506|\n",
      "|104b1398e771a1|    2122235| 319263752|       2|   US>FL>534|             2|   4938802| 319263752|       2|   US>FL>534|\n",
      "|104b64b888ba4f|    1772591| 356218989|       2|   US>CA>803|             1|   5450350| 356335108|       2|   US>CA>803|\n",
      "|104bf6f3d13f6f|    1788295| 336349465|       1|   US>NY>514|             1|   5201191| 336483274|       1|   US>NY>514|\n",
      "|104ca864c6cd3d|    1129130| 307348412|       3|   US>AZ>753|             1|   4719647| 307348412|       3|   US>AZ>753|\n",
      "|104ca864c6cd3d|    1129130| 307348412|       3|   US>AZ>753|             1|   4723291| 307543218|       3|   US>AZ>753|\n",
      "|104ce536076840|    2203423|1023370423|       2|   US>NY>501|             1|  15431584|1023370423|       2|   US>NY>501|\n",
      "|104d4136f57ea8|    2742063|1107827298|       2|   US>NY>501|             3|  19808768|1107827298|       2|   US>NY>501|\n",
      "|104db112485838|    1061689| 454231897|       2|       GB>K2|             1|   6633541| 454231897|       2|       GB>K2|\n",
      "|104dbb3e717cce|     846063|1000701376|       1|   US>NY>501|             2|  15108914|1000702419|       1|   US>NY>501|\n",
      "|104e0cd1254834|     363404| 593135329|       3|       CA>ON|             1|   8813195| 593144041|       3|       CA>ON|\n",
      "|104e42384ab299|    1132102| 352314372|       2|       NZ>F2|             1|  17830560| 352314372|       2|       NZ>F2|\n",
      "|104e990a8f68fe|    1595305| 394304379|       2|   US>CA>862|             1|   5932310| 394304379|       2|   US>CA>862|\n",
      "|10500084d3907b|    1458170| 557055811|       1|       TT>08|             1|   8059991| 557056746|       1|       TT>08|\n",
      "|105069fe8ec36d|    1573953| 106869865|       2|   US>FL>561|             1|   1622694| 106869865|       2|   US>FL>561|\n",
      "|105124a93f0120|    1827718| 758856346|       1|   US>WA>819|             1|  11445533| 758856346|       1|   US>WA>819|\n",
      "|10519c6a459405|    2261206| 515796169|       3|   US>AL>691|             1|   7528262| 515796169|       3|   US>AL>691|\n",
      "|1051a119874c2b|    2816434|1123986511|       1|   US>AZ>753|             1|  19864412|1123986511|       1|   US>AZ>753|\n",
      "|1054c164d5b9b8|    2259992| 561394209|       2|   US>PA>504|             1|   8153246| 561394209|       2|   US>PA>504|\n",
      "|1055465bd75501|    1353588| 920675626|       2|   US>TX>618|             1|  13986103| 920675626|       2|   US>TX>618|\n",
      "|1056c57feaa73e|    2902856|1284628237|       2|          US|             3|  22993899|1289092669|       2|          US|\n",
      "|105737cc26a800|    2165306|1152525328|       2|   US>DC>511|             1|  20239482|1152525328|       2|   US>DC>511|\n",
      "|1057395e00192e|    2365555| 648316017|       1|   US>TX>618|             1|   9574901| 648316017|       1|   US>TX>618|\n",
      "|10575bc7adb446|    2640167| 865113544|       2|   US>IL>602|             1|  13134049| 865113544|       2|   US>IL>602|\n",
      "|1058cdc870a8e2|    1300777|1276330758|       2|       GB>A9|             1|  22758310|1276330758|       2|       GB>A9|\n",
      "|1058d99b3c3d60|    1573953| 551605641|       2|   US>MN>613|             1|  18277445| 551605641|       2|   US>MN>613|\n",
      "|10592552170dc9|    2121879| 316282357|       2|       US>TX|             3|   4883725| 316282357|       2|       US>TX|\n",
      "|105a502b15db2d|    2684642| 952137432|       1|   US>FL>539|             1|  14486910| 952293716|       1|   US>FL>539|\n",
      "|105a56fb6dac62|    2500262| 747302229|       1|   US>PA>508|             1|  11224072| 747302808|       1|   US>PA>508|\n",
      "|105afd4b9391b3|    1007252|1223990608|       3|       IE>29|             1|  21689628|1223992835|       3|       IE>29|\n",
      "|105bf8d16df006|    1861497|  65532674|       2|   US>PA>504|             3|   1083022|  65532674|       2|   US>PA>504|\n",
      "|105e2934186a1b|    2771922|1097091561|       2|   US>PA>504|             3|  16454517|1097091561|       2|   US>PA>504|\n",
      "|105fc0c04bcedf|    2687732| 924925025|       3|   US>MD>511|             1|  14068745| 924925025|       3|   US>MD>511|\n",
      "|10609364a2cbd0|     814485|1135321504|       1|   US>TX>635|             1|  20002831|1135321504|       1|   US>TX>635|\n",
      "|10621622f3dba7|    1859708|  63323696|       1|   US>TN>640|             1|   1039020|  63323696|       1|   US>TN>640|\n",
      "|106230d2b7b472|    1708834| 319407004|       2|       GB>F2|             1|  17746612| 319407004|       2|       GB>F2|\n",
      "|10625b1457d6db|    2696622| 998597052|       1|   US>IL>602|             1|  15078153| 998597244|       1|   US>IL>602|\n",
      "|1062bb8c3f8997|    1446279|  57193872|       2|          US|             1|    906187|  57193872|       2|          US|\n",
      "|1062e1c64e77bf|    1271809| 551975140|       1|   US>WA>819|             1|   7952947| 551975382|       1|   US>WA>819|\n",
      "|106360b36bb1b1|    1408800| 466694970|       3|   US>NC>560|             3|   6780830| 466805120|       3|   US>NC>560|\n",
      "|10637b9989307e|    2333442| 639954422|       1|   US>FL>528|             1|   9415768| 639955509|       1|   US>FL>528|\n",
      "|10639c9a76f52d|     902185| 575290395|       1|       GB>R3|             1|   8459757| 575290776|       1|       GB>R3|\n",
      "|1064c725b1b6fb|    1872851| 154819337|       2|   US>WA>819|             2|   2459013| 154819337|       2|   US>WA>819|\n",
      "|1064cd2b530eb3|    2750195|1035166496|       1|   US>WA>819|             1|  15596653|1035166496|       1|   US>WA>819|\n",
      "|106570e6cf7bee|     814045| 747240041|       3|   US>TX>709|             3|  11222781| 747240041|       3|   US>TX>709|\n",
      "|10670bd9a09c5e|     428928| 657428335|       3|   US>TX>641|             1|   9764087| 657428335|       3|   US>TX>641|\n",
      "|106864ce212321|    2710435| 985392850|       2|   US>NJ>501|             1|  14854373| 985392850|       2|   US>NJ>501|\n",
      "|106918822649c5|    1361146| 322647339|       3|       CA>NB|             1|   4997138| 322647339|       3|       CA>NB|\n",
      "|1069ddfb1cbc80|    2223355| 454720050|       2|   US>FL>534|             1|   6635235| 454475653|       2|   US>FL>534|\n",
      "|1069feed9fa7aa|    2792500|1184612145|       1|       CA>ON|             1|  21014654|1184620079|       1|       CA>ON|\n",
      "|106a15bb2d86f4|    1794730| 424459661|       1|       HK>00|             1|   6346027| 424459661|       1|       HK>00|\n",
      "|106bb60ef1b9bf|    1297445|1087774766|       2|   US>MA>506|             1|  16284121|1086441750|       2|   US>MA>506|\n",
      "|106bfd24753570|      38915| 155726599|       2|   US>NC>518|             1|  11962813| 801753568|       2|   US>NC>518|\n",
      "|106bfd24753570|      38915|1004447303|       2|   US>NC>518|             1|  11962813| 801753568|       2|   US>NC>518|\n",
      "|106bfd24753570|      38915| 541483357|       2|   US>NC>518|             1|  11962813| 801753568|       2|   US>NC>518|\n",
      "|106bfd24753570|      38915|1073870601|       2|   US>NC>518|             1|  11962813| 801753568|       2|   US>NC>518|\n",
      "|106bfd24753570|      38915| 721711173|       2|   US>NC>517|             1|  11962813| 801753568|       2|   US>NC>518|\n",
      "|106bfd24753570|      38915| 801753568|       2|   US>NC>518|             1|  11962813| 801753568|       2|   US>NC>518|\n",
      "|106bfd24753570|      38915| 629270646|       2|   US>NC>518|             1|  11962813| 801753568|       2|   US>NC>518|\n",
      "|106bfd24753570|      38915| 499031513|       2|   US>NC>518|             1|  11962813| 801753568|       2|   US>NC>518|\n",
      "|106c93df657cfc|     178158|1158819519|       2|       QA>01|             2|  20384365|1158819519|       2|       QA>01|\n",
      "+--------------+-----------+----------+--------+------------+--------------+----------+----------+--------+------------+\n",
      "only showing top 200 rows\n",
      "\n",
      "CPU times: user 124 ms, sys: 56 ms, total: 180 ms\n",
      "Wall time: 11min 44s\n"
     ]
    }
   ],
   "source": [
    "page_view_events_matches_df = page_views_events_joined_by_uuid_document_df \n",
    "                        .filter('dummyPageView is not null and dummyEvent is not null')\n",
    "%time page_view_events_matches_df.show(200)"
   ]
  },
  {
   "cell_type": "markdown",
   "metadata": {},
   "source": [
    "## Performing a join between page views and events, on fields uuid, document_id, platform, and geo_location"
   ]
  },
  {
   "cell_type": "markdown",
   "metadata": {},
   "source": [
    "Here we left join events and page views datasets on uuid, document_id, platform, and geo_location.  \n",
    "There are **26323644** rows in the joined dataset, but events dataset has fewer rows (**23120126**) suggesting that those four fields does not uniquely join the datasets, because some events rows are duplicated to match page views."
   ]
  },
  {
   "cell_type": "code",
   "execution_count": 142,
   "metadata": {},
   "outputs": [
    {
     "name": "stdout",
     "output_type": "stream",
     "text": [
      "CPU times: user 176 ms, sys: 48 ms, total: 224 ms\n",
      "Wall time: 21min 45s\n"
     ]
    },
    {
     "data": {
      "text/plain": [
       "26323644"
      ]
     },
     "execution_count": 142,
     "metadata": {},
     "output_type": "execute_result"
    }
   ],
   "source": [
    "%time events_with_day_df.alias('events').join(page_views_with_day_df.alias('page_views'),\n",
    "                                              on=['uuid','document_id','platform','geo_location'], how='left') \\\n",
    "                                        .count()"
   ]
  },
  {
   "cell_type": "markdown",
   "metadata": {},
   "source": [
    "## Performing a join between page views and events, on fields uuid, document_id and timestamp"
   ]
  },
  {
   "cell_type": "markdown",
   "metadata": {},
   "source": [
    "Let's try to join datasets now considering uuid, document_id and timestamp"
   ]
  },
  {
   "cell_type": "code",
   "execution_count": 197,
   "metadata": {
    "collapsed": true
   },
   "outputs": [],
   "source": [
    "page_views_events_joined_by_uuid_document_timestamp_df  = events_df.alias('events') \\\n",
    "                                                            .join(page_views_df.alias('page_views'), \n",
    "                                                                   on=['uuid','document_id','timestamp'], \n",
    "                                                                   how='left')"
   ]
  },
  {
   "cell_type": "markdown",
   "metadata": {},
   "source": [
    "We can see that joining on those 3 fields we have **15854250** matches. This is only **68%** of the total **23120126** events, so **timestamps between page views and events appears not to be exactly aligned**."
   ]
  },
  {
   "cell_type": "code",
   "execution_count": 198,
   "metadata": {},
   "outputs": [
    {
     "name": "stdout",
     "output_type": "stream",
     "text": [
      "CPU times: user 168 ms, sys: 24 ms, total: 192 ms\n",
      "Wall time: 17min 47s\n"
     ]
    },
    {
     "data": {
      "text/plain": [
       "15854250"
      ]
     },
     "execution_count": 198,
     "metadata": {},
     "output_type": "execute_result"
    }
   ],
   "source": [
    "%time page_views_events_joined_by_uuid_document_timestamp_df.filter('dummyEvent is not null and dummyPageView is not null').count()"
   ]
  },
  {
   "cell_type": "markdown",
   "metadata": {},
   "source": [
    "## Analyzing delta between page views and events timestamps"
   ]
  },
  {
   "cell_type": "markdown",
   "metadata": {},
   "source": [
    "We've built a User Defined Function (UDF) to calculate the delta seconds between page views and events timestamps"
   ]
  },
  {
   "cell_type": "code",
   "execution_count": 104,
   "metadata": {
    "collapsed": true
   },
   "outputs": [],
   "source": [
    "diff_between_page_views_events_timestamps_udf = F.udf(lambda event_ts, page_view_ts: round(abs((convert_odd_timestamp(event_ts) - convert_odd_timestamp(page_view_ts)).total_seconds())), IntegerType())"
   ]
  },
  {
   "cell_type": "markdown",
   "metadata": {},
   "source": [
    "We use again the matching rows of joined dataset only on (uuid, document_id) fields, to analyze the statistics of  timestamp delta (in seconds) between the two datasets. We can see that the **average (arithmetic mean) delta between timestamps is 49323 seconds (13.7 hours)**. "
   ]
  },
  {
   "cell_type": "code",
   "execution_count": 107,
   "metadata": {},
   "outputs": [
    {
     "name": "stdout",
     "output_type": "stream",
     "text": [
      "CPU times: user 172 ms, sys: 48 ms, total: 220 ms\n",
      "Wall time: 17min 47s\n",
      "+-------+--------------------+\n",
      "|summary|timestamp_delta_secs|\n",
      "+-------+--------------------+\n",
      "|  count|            26750921|\n",
      "|   mean|   49323.24790279183|\n",
      "| stddev|   159902.2796012831|\n",
      "|    min|                   0|\n",
      "|    max|             1295724|\n",
      "+-------+--------------------+\n",
      "\n"
     ]
    }
   ],
   "source": [
    "page_view_events_matches_with_delta_ts_df = page_view_events_matches_df \\\n",
    "                                        .withColumn('timestamp_delta_secs', diff_between_page_views_events_timestamps_udf('events.timestamp', 'page_views.timestamp')) \\\n",
    "                                        .select('timestamp_delta_secs')\n",
    "%time page_view_events_matches_with_delta_ts_df.describe('timestamp_delta_secs').show()"
   ]
  },
  {
   "cell_type": "markdown",
   "metadata": {},
   "source": [
    "As arithmetic mean are very sensitive to large outliers, we analyze the distribution using quantiles.\n",
    "We can see that at least 50% (median) of matching rows on (uuid, document_id) have a delta of 0 seconds (identical), but at 75% quantile we have samples with a delta of around 211 seconds (3.5 min).  \n",
    "I guess one possible source of these differences might be that, for some platforms or providers, a page view is logged on page load, and then, after some time in that browser tab, the user clicks in one ad, and a display_id is logged in events dataset with a newer timestamp."
   ]
  },
  {
   "cell_type": "code",
   "execution_count": 195,
   "metadata": {},
   "outputs": [
    {
     "name": "stdout",
     "output_type": "stream",
     "text": [
      "CPU times: user 208 ms, sys: 36 ms, total: 244 ms\n",
      "Wall time: 18min 15s\n"
     ]
    },
    {
     "data": {
      "text/plain": [
       "[(0.25, 0.0),\n",
       " (0.3, 0.0),\n",
       " (0.35, 0.0),\n",
       " (0.4, 0.0),\n",
       " (0.45, 0.0),\n",
       " (0.5, 0.0),\n",
       " (0.75, 211.0)]"
      ]
     },
     "execution_count": 195,
     "metadata": {},
     "output_type": "execute_result"
    }
   ],
   "source": [
    "quantiles_levels = [0.25, 0.3, 0.35, 0.4, 0.45, 0.5, 0.75]        \n",
    "%time quantiles = page_view_events_matches_with_delta_ts_df.approxQuantile(\"timestamp_delta_secs\", quantiles_levels, 0.05)\n",
    "list(zip(quantiles_levels, quantiles))"
   ]
  },
  {
   "cell_type": "markdown",
   "metadata": {},
   "source": [
    "## Performing the join on fields uuid, document_id, platform, geo_location and day(timestamp)"
   ]
  },
  {
   "cell_type": "markdown",
   "metadata": {},
   "source": [
    "As we have a delta between page views and events timestamps, we extract the dates from timestamps (ignoring hours) from both datasets"
   ]
  },
  {
   "cell_type": "code",
   "execution_count": 130,
   "metadata": {
    "collapsed": true
   },
   "outputs": [],
   "source": [
    "truncate_day_from_timestamp_udf = F.udf(lambda ts: int(ts / 1000 / 60 / 60 / 24), IntegerType())"
   ]
  },
  {
   "cell_type": "code",
   "execution_count": 136,
   "metadata": {
    "collapsed": true
   },
   "outputs": [],
   "source": [
    "page_views_with_day_df = page_views_df.withColumn('day', truncate_day_from_timestamp_udf('timestamp')).withColumn('dummyPageView', F.lit(1))"
   ]
  },
  {
   "cell_type": "code",
   "execution_count": 137,
   "metadata": {
    "collapsed": true
   },
   "outputs": [],
   "source": [
    "events_with_day_df = events_df.withColumn('day', truncate_day_from_timestamp_udf('timestamp')).withColumn('dummyEvent', F.lit(1))"
   ]
  },
  {
   "cell_type": "markdown",
   "metadata": {},
   "source": [
    "**Now we join the datasets on fields uuid, document_id, platform, geo_location and day(timestamp).  \n",
    "This join approach appears to be reasonable, because there are 23120126 resulting rows (exactly the events count, with no duplication) and the count of rows where events have no corresponding page view is 55568 (only 0.24% of events)**  "
   ]
  },
  {
   "cell_type": "code",
   "execution_count": 138,
   "metadata": {
    "collapsed": true
   },
   "outputs": [],
   "source": [
    "page_views_events_with_day_joined_df = events_with_day_df.alias('events').join(page_views_with_day_df.alias('page_views'), on=['uuid','document_id','platform','geo_location','day'], how='left')"
   ]
  },
  {
   "cell_type": "code",
   "execution_count": 134,
   "metadata": {},
   "outputs": [
    {
     "name": "stdout",
     "output_type": "stream",
     "text": [
      "CPU times: user 376 ms, sys: 104 ms, total: 480 ms\n",
      "Wall time: 32min 26s\n"
     ]
    },
    {
     "data": {
      "text/plain": [
       "23120126"
      ]
     },
     "execution_count": 134,
     "metadata": {},
     "output_type": "execute_result"
    }
   ],
   "source": [
    "%time page_views_events_with_day_joined_df.count()"
   ]
  },
  {
   "cell_type": "markdown",
   "metadata": {},
   "source": [
    "Probably this relatively few events (0.24% of events) not matching any page view in the same day are due to possible page view and events timestamps around 4am (midnight at Eastern time) being splits in different days, even if delta between them is just some minutes."
   ]
  },
  {
   "cell_type": "code",
   "execution_count": 139,
   "metadata": {},
   "outputs": [
    {
     "name": "stdout",
     "output_type": "stream",
     "text": [
      "CPU times: user 360 ms, sys: 128 ms, total: 488 ms\n",
      "Wall time: 33min 29s\n"
     ]
    },
    {
     "data": {
      "text/plain": [
       "55568"
      ]
     },
     "execution_count": 139,
     "metadata": {},
     "output_type": "execute_result"
    }
   ],
   "source": [
    "events_without_matching_page_views_on_same_day_df = page_views_events_with_day_joined_df \\\n",
    "                                            .filter('page_views.dummyPageView is null')\n",
    "%time events_without_matching_page_views_on_same_day_df.count()"
   ]
  },
  {
   "cell_type": "markdown",
   "metadata": {},
   "source": [
    "## Analyzing users' additional page views not in events"
   ]
  },
  {
   "cell_type": "markdown",
   "metadata": {},
   "source": [
    "The main reason for the usage of page views dataset is that it might provide additional user logs when compaired to events dataset, that could help us to model users preferences or interests. Let's test this hypothesis."
   ]
  },
  {
   "cell_type": "code",
   "execution_count": 229,
   "metadata": {
    "collapsed": true
   },
   "outputs": [],
   "source": [
    "#Registering events dataset as a view, to use it in a SQL query\n",
    "events_with_day_df.createOrReplaceTempView(\"EVENTS\")    \n",
    "\n",
    "#Registering \"page_views left join events dataset\" as a view, to use it in a SQL query\n",
    "page_views_left_join_events_df = page_views_with_day_df.alias('page_views') \\\n",
    "                                        .join(events_with_day_df.alias('events'), \n",
    "                                              on=['uuid','document_id','platform','geo_location','day'], \n",
    "                                              how='left')\n",
    "page_views_left_join_events_df.createOrReplaceTempView(\"PAGE_VIEWS_LEFT_JOIN_EVENTS\")\n",
    "\n",
    "#Grouping how many users have exactly N additional page views (which are not in events dataset, \n",
    "#                                                              but only from users in events dataset)\n",
    "additional_page_views_by_user_df = spark.sql('''\n",
    "            SELECT additionalPageViewsByUser, COUNT(*) as usersCount FROM\n",
    "                (SELECT UUID, COUNT(*) as additionalPageViewsByUser \n",
    "                FROM PAGE_VIEWS_LEFT_JOIN_EVENTS p \n",
    "                WHERE dummyEvent IS NULL\n",
    "                  AND EXISTS (SELECT uuid FROM EVENTS where uuid = p.uuid) \n",
    "                GROUP BY UUID)\n",
    "            GROUP BY additionalPageViewsByUser''')"
   ]
  },
  {
   "cell_type": "markdown",
   "metadata": {},
   "source": [
    "In this table, we show that **2288031 users have only 1 additional page view** (which is not in events dataset), **1654220 users have exactly 2 additional page views**, etc."
   ]
  },
  {
   "cell_type": "code",
   "execution_count": 230,
   "metadata": {},
   "outputs": [
    {
     "name": "stdout",
     "output_type": "stream",
     "text": [
      "CPU times: user 368 ms, sys: 88 ms, total: 456 ms\n",
      "Wall time: 27min 19s\n"
     ]
    },
    {
     "data": {
      "text/html": [
       "<div>\n",
       "<table border=\"1\" class=\"dataframe\">\n",
       "  <thead>\n",
       "    <tr style=\"text-align: right;\">\n",
       "      <th></th>\n",
       "      <th>count</th>\n",
       "    </tr>\n",
       "    <tr>\n",
       "      <th>additionalPageViewsByUser</th>\n",
       "      <th></th>\n",
       "    </tr>\n",
       "  </thead>\n",
       "  <tbody>\n",
       "    <tr>\n",
       "      <th>1</th>\n",
       "      <td>2288031</td>\n",
       "    </tr>\n",
       "    <tr>\n",
       "      <th>2</th>\n",
       "      <td>1654220</td>\n",
       "    </tr>\n",
       "    <tr>\n",
       "      <th>3</th>\n",
       "      <td>1288044</td>\n",
       "    </tr>\n",
       "    <tr>\n",
       "      <th>4</th>\n",
       "      <td>1049242</td>\n",
       "    </tr>\n",
       "    <tr>\n",
       "      <th>5</th>\n",
       "      <td>872857</td>\n",
       "    </tr>\n",
       "    <tr>\n",
       "      <th>6</th>\n",
       "      <td>742933</td>\n",
       "    </tr>\n",
       "    <tr>\n",
       "      <th>7</th>\n",
       "      <td>641927</td>\n",
       "    </tr>\n",
       "    <tr>\n",
       "      <th>8</th>\n",
       "      <td>559609</td>\n",
       "    </tr>\n",
       "    <tr>\n",
       "      <th>9</th>\n",
       "      <td>493910</td>\n",
       "    </tr>\n",
       "    <tr>\n",
       "      <th>10</th>\n",
       "      <td>439872</td>\n",
       "    </tr>\n",
       "  </tbody>\n",
       "</table>\n",
       "</div>"
      ],
      "text/plain": [
       "                             count\n",
       "additionalPageViewsByUser         \n",
       "1                          2288031\n",
       "2                          1654220\n",
       "3                          1288044\n",
       "4                          1049242\n",
       "5                           872857\n",
       "6                           742933\n",
       "7                           641927\n",
       "8                           559609\n",
       "9                           493910\n",
       "10                          439872"
      ]
     },
     "execution_count": 230,
     "metadata": {},
     "output_type": "execute_result"
    }
   ],
   "source": [
    "%time additional_page_views_by_user_pandas = additional_page_views_by_user_df.toPandas()\n",
    "additional_page_views_by_user_pandas = additional_page_views_by_user_pandas.set_index('additionalPageViewsByUser').sort_index()\n",
    "additional_page_views_by_user_pandas.head(10)"
   ]
  },
  {
   "cell_type": "markdown",
   "metadata": {},
   "source": [
    "** There are 14951413 (about 75%) users in events dataset which have at least one additional page view (besides the ones logged as events), and 4843554 (about 25%) users with no additional page view. **"
   ]
  },
  {
   "cell_type": "code",
   "execution_count": 233,
   "metadata": {},
   "outputs": [
    {
     "data": {
      "text/plain": [
       "14951413"
      ]
     },
     "execution_count": 233,
     "metadata": {},
     "output_type": "execute_result"
    }
   ],
   "source": [
    "users_with_additional_page_views_count = additional_page_views_by_user_pandas['usersCount'].sum()\n",
    "users_with_additional_page_views_count"
   ]
  },
  {
   "cell_type": "code",
   "execution_count": 234,
   "metadata": {},
   "outputs": [
    {
     "data": {
      "text/plain": [
       "4843554"
      ]
     },
     "execution_count": 234,
     "metadata": {},
     "output_type": "execute_result"
    }
   ],
   "source": [
    "users_without_additional_page_view = distinct_events_users - users_with_additional_page_views_count\n",
    "users_without_additional_page_view"
   ]
  },
  {
   "cell_type": "markdown",
   "metadata": {},
   "source": [
    "**Below it can be seen an histogram drawing a beautiful Poisson distribution of the users count with at least one additional page view.**"
   ]
  },
  {
   "cell_type": "code",
   "execution_count": 199,
   "metadata": {},
   "outputs": [
    {
     "data": {
      "text/plain": [
       "<matplotlib.axes._subplots.AxesSubplot at 0x7fe6ec11f080>"
      ]
     },
     "execution_count": 199,
     "metadata": {},
     "output_type": "execute_result"
    },
    {
     "data": {
      "image/png": "[encoded data removed]",
      "text/plain": [
       "<matplotlib.figure.Figure at 0x7fe6ec109908>"
      ]
     },
     "metadata": {},
     "output_type": "display_data"
    }
   ],
   "source": [
    "additional_page_views_by_user_pandas.head(20).plot.bar(y='usersCount')"
   ]
  },
  {
   "cell_type": "markdown",
   "metadata": {},
   "source": [
    "**Users count cumulative percentage (users with at least one additional page view)**"
   ]
  },
  {
   "cell_type": "code",
   "execution_count": 208,
   "metadata": {},
   "outputs": [
    {
     "data": {
      "text/html": [
       "<div>\n",
       "<table border=\"1\" class=\"dataframe\">\n",
       "  <thead>\n",
       "    <tr style=\"text-align: right;\">\n",
       "      <th></th>\n",
       "      <th>usersCount</th>\n",
       "      <th>cum_perc</th>\n",
       "    </tr>\n",
       "    <tr>\n",
       "      <th>additionalPageViewsByUser</th>\n",
       "      <th></th>\n",
       "      <th></th>\n",
       "    </tr>\n",
       "  </thead>\n",
       "  <tbody>\n",
       "    <tr>\n",
       "      <th>1</th>\n",
       "      <td>2288031</td>\n",
       "      <td>15.303109</td>\n",
       "    </tr>\n",
       "    <tr>\n",
       "      <th>2</th>\n",
       "      <td>1654220</td>\n",
       "      <td>26.367080</td>\n",
       "    </tr>\n",
       "    <tr>\n",
       "      <th>3</th>\n",
       "      <td>1288044</td>\n",
       "      <td>34.981945</td>\n",
       "    </tr>\n",
       "    <tr>\n",
       "      <th>4</th>\n",
       "      <td>1049242</td>\n",
       "      <td>41.999622</td>\n",
       "    </tr>\n",
       "    <tr>\n",
       "      <th>5</th>\n",
       "      <td>872857</td>\n",
       "      <td>47.837579</td>\n",
       "    </tr>\n",
       "    <tr>\n",
       "      <th>6</th>\n",
       "      <td>742933</td>\n",
       "      <td>52.806561</td>\n",
       "    </tr>\n",
       "    <tr>\n",
       "      <th>7</th>\n",
       "      <td>641927</td>\n",
       "      <td>57.099981</td>\n",
       "    </tr>\n",
       "    <tr>\n",
       "      <th>8</th>\n",
       "      <td>559609</td>\n",
       "      <td>60.842831</td>\n",
       "    </tr>\n",
       "    <tr>\n",
       "      <th>9</th>\n",
       "      <td>493910</td>\n",
       "      <td>64.146265</td>\n",
       "    </tr>\n",
       "    <tr>\n",
       "      <th>10</th>\n",
       "      <td>439872</td>\n",
       "      <td>67.088275</td>\n",
       "    </tr>\n",
       "  </tbody>\n",
       "</table>\n",
       "</div>"
      ],
      "text/plain": [
       "                           usersCount   cum_perc\n",
       "additionalPageViewsByUser                       \n",
       "1                             2288031  15.303109\n",
       "2                             1654220  26.367080\n",
       "3                             1288044  34.981945\n",
       "4                             1049242  41.999622\n",
       "5                              872857  47.837579\n",
       "6                              742933  52.806561\n",
       "7                              641927  57.099981\n",
       "8                              559609  60.842831\n",
       "9                              493910  64.146265\n",
       "10                             439872  67.088275"
      ]
     },
     "execution_count": 208,
     "metadata": {},
     "output_type": "execute_result"
    }
   ],
   "source": [
    "additional_page_views_by_user_pandas['cum_perc'] = (additional_page_views_by_user_pandas['usersCount'].cumsum() / users_with_additional_page_views_count) * 100\n",
    "additional_page_views_by_user_pandas.head(10)"
   ]
  },
  {
   "cell_type": "code",
   "execution_count": 209,
   "metadata": {},
   "outputs": [
    {
     "data": {
      "text/plain": [
       "<matplotlib.axes._subplots.AxesSubplot at 0x7fe6ec043198>"
      ]
     },
     "execution_count": 209,
     "metadata": {},
     "output_type": "execute_result"
    },
    {
     "data": {
      "image/png": "[encoded data removed]",
      "text/plain": [
       "<matplotlib.figure.Figure at 0x7fe6ec0bdc18>"
      ]
     },
     "metadata": {},
     "output_type": "display_data"
    }
   ],
   "source": [
    "additional_page_views_by_user_pandas.head(20).plot.line(y='cum_perc')"
   ]
  },
  {
   "cell_type": "markdown",
   "metadata": {},
   "source": [
    "Some outlier users with more than 500 additional page views..."
   ]
  },
  {
   "cell_type": "code",
   "execution_count": 228,
   "metadata": {},
   "outputs": [
    {
     "data": {
      "text/html": [
       "<div>\n",
       "<table border=\"1\" class=\"dataframe\">\n",
       "  <thead>\n",
       "    <tr style=\"text-align: right;\">\n",
       "      <th></th>\n",
       "      <th>usersCount</th>\n",
       "      <th>cum_perc</th>\n",
       "    </tr>\n",
       "    <tr>\n",
       "      <th>additionalPageViewsByUser</th>\n",
       "      <th></th>\n",
       "      <th></th>\n",
       "    </tr>\n",
       "  </thead>\n",
       "  <tbody>\n",
       "    <tr>\n",
       "      <th>541</th>\n",
       "      <td>1</td>\n",
       "      <td>99.999940</td>\n",
       "    </tr>\n",
       "    <tr>\n",
       "      <th>546</th>\n",
       "      <td>1</td>\n",
       "      <td>99.999946</td>\n",
       "    </tr>\n",
       "    <tr>\n",
       "      <th>553</th>\n",
       "      <td>1</td>\n",
       "      <td>99.999953</td>\n",
       "    </tr>\n",
       "    <tr>\n",
       "      <th>560</th>\n",
       "      <td>1</td>\n",
       "      <td>99.999960</td>\n",
       "    </tr>\n",
       "    <tr>\n",
       "      <th>618</th>\n",
       "      <td>1</td>\n",
       "      <td>99.999967</td>\n",
       "    </tr>\n",
       "    <tr>\n",
       "      <th>635</th>\n",
       "      <td>1</td>\n",
       "      <td>99.999973</td>\n",
       "    </tr>\n",
       "    <tr>\n",
       "      <th>654</th>\n",
       "      <td>1</td>\n",
       "      <td>99.999980</td>\n",
       "    </tr>\n",
       "    <tr>\n",
       "      <th>656</th>\n",
       "      <td>1</td>\n",
       "      <td>99.999987</td>\n",
       "    </tr>\n",
       "    <tr>\n",
       "      <th>676</th>\n",
       "      <td>1</td>\n",
       "      <td>99.999993</td>\n",
       "    </tr>\n",
       "    <tr>\n",
       "      <th>717</th>\n",
       "      <td>1</td>\n",
       "      <td>100.000000</td>\n",
       "    </tr>\n",
       "  </tbody>\n",
       "</table>\n",
       "</div>"
      ],
      "text/plain": [
       "                           usersCount    cum_perc\n",
       "additionalPageViewsByUser                        \n",
       "541                                 1   99.999940\n",
       "546                                 1   99.999946\n",
       "553                                 1   99.999953\n",
       "560                                 1   99.999960\n",
       "618                                 1   99.999967\n",
       "635                                 1   99.999973\n",
       "654                                 1   99.999980\n",
       "656                                 1   99.999987\n",
       "676                                 1   99.999993\n",
       "717                                 1  100.000000"
      ]
     },
     "execution_count": 228,
     "metadata": {},
     "output_type": "execute_result"
    }
   ],
   "source": [
    "additional_page_views_by_user_pandas.tail(10)"
   ]
  },
  {
   "cell_type": "markdown",
   "metadata": {},
   "source": [
    "# Conclusion"
   ]
  },
  {
   "cell_type": "markdown",
   "metadata": {},
   "source": [
    "**In this notebook, we leveraged the processing power of a Spark cluster, and explored page_views.csv dataset and its relationship with events.csv dataset.  \n",
    "We discovered that fields (uuid, document_id, platform, geo_location and day(timestamp)) can be used to effectivelly join both datasets. And events dataset can be considered to be a subset of page_views dataset, as almost all (99.76%) its rows can be matched in page_views.csv using these fields.  \n",
    "We also discovered that 75% of users in events.csv have additional logged visits on page_views.csv, which hopefully might be used to model users preferences for personalized ads ranking.**"
   ]
  },
  {
   "cell_type": "code",
   "execution_count": null,
   "metadata": {
    "collapsed": true
   },
   "outputs": [],
   "source": []
  }
 ],
 "metadata": {
  "kernelspec": {
   "display_name": "Python 3",
   "language": "python",
   "name": "python3"
  },
  "language_info": {
   "codemirror_mode": {
    "name": "ipython",
    "version": 3
   },
   "file_extension": ".py",
   "mimetype": "text/x-python",
   "name": "python",
   "nbconvert_exporter": "python",
   "pygments_lexer": "ipython3",
   "version": "3.6.1"
  }
 },
 "nbformat": 4,
 "nbformat_minor": 1
}
